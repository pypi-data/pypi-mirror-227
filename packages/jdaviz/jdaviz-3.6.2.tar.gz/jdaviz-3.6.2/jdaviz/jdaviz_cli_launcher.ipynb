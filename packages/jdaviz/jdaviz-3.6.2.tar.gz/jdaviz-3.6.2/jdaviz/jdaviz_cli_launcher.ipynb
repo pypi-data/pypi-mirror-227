{
 "cells": [
  {
   "cell_type": "code",
   "execution_count": null,
   "metadata": {},
   "outputs": [],
   "source": [
    "from jdaviz.core.launcher import show_launcher\n",
    "\n",
    "show_launcher()"
   ]
  }
 ],
 "metadata": {
  "kernelspec": {
   "display_name": "Python 3.10.10 ('envmain': venv)",
   "language": "python",
   "name": "python3"
  },
  "language_info": {
   "codemirror_mode": {
    "name": "ipython",
    "version": 3
   },
   "file_extension": ".py",
   "mimetype": "text/x-python",
   "name": "python",
   "nbconvert_exporter": "python",
   "pygments_lexer": "ipython3",
   "version": "3.10.10"
  },
  "vscode": {
   "interpreter": {
    "hash": "f917e879dca01012f092e44ceeb72fc316d3b188a12a493299dc2bd49905dadb"
   }
  }
 },
 "nbformat": 4,
 "nbformat_minor": 2
}
