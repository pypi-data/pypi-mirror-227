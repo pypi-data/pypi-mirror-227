{
 "cells": [
  {
   "attachments": {},
   "cell_type": "markdown",
   "metadata": {},
   "source": [
    "## CRUD Example w/ Price Alerts\n",
    "\n",
    "This short sample demonstrates Create-Read-Update-Delete (CRUD) operations with OpenAPI for price alerts."
   ]
  },
  {
   "cell_type": "code",
   "execution_count": 1,
   "metadata": {},
   "outputs": [
    {
     "name": "stdout",
     "output_type": "stream",
     "text": [
      "🌐 opening login page in browser - waiting for user to authenticate... 🔑\n",
      "📞 received callback from Saxo SSO\n",
      "✅ authorization succeeded - connected to SIM environment with WRITE / TRADE permissions (session ID: 2757e3a96e9c4687a498ae9bc86c2c86)\n"
     ]
    }
   ],
   "source": [
    "from saxo_apy import SaxoOpenAPIClient\n",
    "\n",
    "client = SaxoOpenAPIClient()\n",
    "client.login()"
   ]
  },
  {
   "cell_type": "code",
   "execution_count": 2,
   "metadata": {},
   "outputs": [
    {
     "name": "stdout",
     "output_type": "stream",
     "text": [
      "These price alerts are currently configured: []\n"
     ]
    }
   ],
   "source": [
    "# retrieve current price alerts (in this case there are no alerts configured)\n",
    "alerts = client.get(\"/vas/v1/pricealerts/definitions\")\n",
    "print(f\"These price alerts are currently configured: {[alert for alert in alerts['Data']]}\")"
   ]
  },
  {
   "attachments": {},
   "cell_type": "markdown",
   "metadata": {},
   "source": [
    "## Create"
   ]
  },
  {
   "cell_type": "code",
   "execution_count": 3,
   "metadata": {},
   "outputs": [
    {
     "name": "stdout",
     "output_type": "stream",
     "text": [
      "New price alert was configured with ID: 883953\n"
     ]
    }
   ],
   "source": [
    "# create new price alert: AAPL traded above 200 USD on default account, active for the next 10 days\n",
    "from datetime import datetime, timedelta\n",
    "\n",
    "account_id = client.get(\"/port/v1/clients/me\")[\"DefaultAccountId\"]\n",
    "\n",
    "expiry = datetime.now() + timedelta(days=10)\n",
    "\n",
    "new_alert = {\n",
    "    \"AccountId\": account_id,\n",
    "    \"Uic\": 211,\n",
    "    \"AssetType\": \"Stock\",\n",
    "    \"IsRecurring\": False,\n",
    "    \"Operator\": \"GreaterOrEqual\",\n",
    "    \"PriceVariable\": \"Traded\",\n",
    "    \"TargetValue\": \"200\",\n",
    "    \"ExpiryDate\": str(expiry),\n",
    "}\n",
    "\n",
    "created_alert = client.post(\"/vas/v1/pricealerts/definitions\", data=new_alert)\n",
    "alert_id = created_alert[\"AlertDefinitionId\"]\n",
    "print(f\"New price alert was configured with ID: {alert_id}\")"
   ]
  },
  {
   "attachments": {},
   "cell_type": "markdown",
   "metadata": {},
   "source": [
    "## Read"
   ]
  },
  {
   "cell_type": "code",
   "execution_count": 4,
   "metadata": {},
   "outputs": [
    {
     "data": {
      "text/plain": [
       "{'__count': 1,\n",
       " 'Data': [{'AccountId': '16371609_USD',\n",
       "   'AlertDefinitionId': '883953',\n",
       "   'AssetType': 'Stock',\n",
       "   'ClientId': '16371609',\n",
       "   'Comment': '',\n",
       "   'ExpiryDate': '2023-06-28T09:52:48.090000Z',\n",
       "   'IsExtendedHours': False,\n",
       "   'IsRecurring': False,\n",
       "   'Operator': 'GreaterOrEqual',\n",
       "   'PriceVariable': 'Traded',\n",
       "   'State': 'Enabled',\n",
       "   'TargetValue': 200.0,\n",
       "   'Uic': 211,\n",
       "   'UserId': '16371609'}]}"
      ]
     },
     "execution_count": 4,
     "metadata": {},
     "output_type": "execute_result"
    }
   ],
   "source": [
    "# retrieve the collection of price alerts to confirm the new alert has been created\n",
    "\n",
    "client.get(\"/vas/v1/pricealerts/definitions\")"
   ]
  },
  {
   "attachments": {},
   "cell_type": "markdown",
   "metadata": {},
   "source": [
    "## Update"
   ]
  },
  {
   "cell_type": "code",
   "execution_count": 5,
   "metadata": {},
   "outputs": [],
   "source": [
    "# update price alert (price is now 210 USD)\n",
    "updated_alert = {\n",
    "    \"AccountId\": account_id,\n",
    "    \"AssetType\": \"Stock\",\n",
    "    \"IsRecurring\": False,\n",
    "    \"Operator\": \"GreaterOrEqual\",\n",
    "    \"PriceVariable\": \"Traded\",\n",
    "    \"TargetValue\": \"210\",\n",
    "    \"Uic\": 211,\n",
    "    \"ExpiryDate\": \"2022-12-31T00:00:00Z\",\n",
    "}\n",
    "\n",
    "client.put(f\"/vas/v1/pricealerts/definitions/{alert_id}\", data=updated_alert)\n",
    "\n",
    "# no response here because PUT status code is 204"
   ]
  },
  {
   "cell_type": "code",
   "execution_count": 6,
   "metadata": {},
   "outputs": [
    {
     "name": "stdout",
     "output_type": "stream",
     "text": [
      "Target value of price alert 883953 is now: 210.0\n"
     ]
    }
   ],
   "source": [
    "# retrieve updated alert, price is indeed updated to 210\n",
    "alert = client.get(f\"/vas/v1/pricealerts/definitions/{alert_id}\")\n",
    "print(f\"Target value of price alert {alert_id} is now: {alert['TargetValue']}\")"
   ]
  },
  {
   "attachments": {},
   "cell_type": "markdown",
   "metadata": {},
   "source": [
    "## Delete"
   ]
  },
  {
   "cell_type": "code",
   "execution_count": 7,
   "metadata": {},
   "outputs": [],
   "source": [
    "# remove alert\n",
    "client.delete(f\"/vas/v1/pricealerts/definitions/{alert_id}\")\n",
    "\n",
    "# again no response because status code is always 204"
   ]
  },
  {
   "cell_type": "code",
   "execution_count": 8,
   "metadata": {},
   "outputs": [
    {
     "name": "stdout",
     "output_type": "stream",
     "text": [
      "These price alerts are currently configured: []\n"
     ]
    }
   ],
   "source": [
    "# alert is indeed removed\n",
    "client.get(\"/vas/v1/pricealerts/definitions/\")\n",
    "print(f\"These price alerts are currently configured: {[alert for alert in alerts['Data']]}\")"
   ]
  }
 ],
 "metadata": {
  "kernelspec": {
   "display_name": ".venv",
   "language": "python",
   "name": "python3"
  },
  "language_info": {
   "codemirror_mode": {
    "name": "ipython",
    "version": 3
   },
   "file_extension": ".py",
   "mimetype": "text/x-python",
   "name": "python",
   "nbconvert_exporter": "python",
   "pygments_lexer": "ipython3",
   "version": "3.11.3"
  },
  "orig_nbformat": 4,
  "vscode": {
   "interpreter": {
    "hash": "3f753197f020b6236bb06be37c192ff4bc0da2ccc1bf66f005a7556bcabdf016"
   }
  }
 },
 "nbformat": 4,
 "nbformat_minor": 2
}
