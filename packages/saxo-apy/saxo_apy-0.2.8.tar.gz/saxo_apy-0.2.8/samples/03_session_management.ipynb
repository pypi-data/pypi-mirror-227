{
 "cells": [
  {
   "attachments": {},
   "cell_type": "markdown",
   "metadata": {},
   "source": [
    "## Managing the OpenAPI Session\n",
    "\n",
    "After login, the client will automatically retrieve a token pair (access and refresh token) from the endpoint specified in your app's application config. This is a default `/token` endpoint specific to the environment that your app is running in, which is what all applications use to generate tokens (standard OAuth implementation).\n",
    "\n",
    "At this point, a *OpenAPI session* has commenced, identified by a session id which typically looks something like this:\n",
    "\n",
    "```\n",
    "95af38e86c1547fdafc4204a0684ded7\n",
    "```\n",
    "\n",
    "By default, the access token is only valid for 20 minutes, after which it expires and the session is automatically disconnected. Requests to OpenAPI will error out with a 401 Unauthorized response if an expired token is used, which effectively means that the client is no longer logged in. Restricting token lifetimes is a fairly typical security measure to prevent tokens 'falling in the wrong hands' from being useful for extended periods (reducing the attack surface of a potential bad actor).\n",
    "\n",
    "The refresh token's lifetime is typically 1 hour, which means that at any time in the hour starting from the moment the tokens are generated, the session can be extended by exercising the refresh token. This is what is typically referred to as 'keeping the session alive'.\n",
    "\n",
    "The client implements a basic `refresh()` method that does exactly this - it makes a request to the token endpoint and obtains a fresh token pair, which replaces the existing tokens saved in the client's state (keeping the session 'alive'). These tokens in turn last for 20 and 60 minutes respectively and are used for subsequent requests.\n",
    "\n",
    "Therefore, it is up to the client to systematically refresh the token pair _before_ the access token expires - otherwise requests will start failing.\n",
    "\n",
    "## In Jupyter Notebooks\n",
    "\n",
    "Because of the ease-of-use and the prevalence of Jupyter Notebooks in the Python community, the client has a simple feature to keep the session authenticated as long as the notebook is 'running' (i.e. it is not closed/exited and the kernel is not restarted).\n",
    "\n",
    "When the `login()` method is called, set the following parameter to enable the refresh loop:"
   ]
  },
  {
   "cell_type": "code",
   "execution_count": 1,
   "metadata": {},
   "outputs": [
    {
     "name": "stdout",
     "output_type": "stream",
     "text": [
      "🌐 opening login page in browser - waiting for user to authenticate... 🔑\n",
      "📞 received callback from Saxo SSO\n",
      "✅ authorization succeeded - connected to SIM environment with WRITE / TRADE permissions (session ID: a9689adda1614b629b6f5730ab1e129f)\n"
     ]
    }
   ],
   "source": [
    "from saxo_apy import SaxoOpenAPIClient\n",
    "\n",
    "client = SaxoOpenAPIClient()\n",
    "client.login(start_async_refresh=True)  # this will automatically hook to Jupyter's async loop to refresh the session"
   ]
  },
  {
   "attachments": {},
   "cell_type": "markdown",
   "metadata": {},
   "source": [
    "This parameter essentially schedules the refresh loop in asyncio:\n",
    "\n",
    "```Python\n",
    "asyncio.create_task(self.async_refresh(), name=\"async_refresh\")\n",
    "```\n",
    "\n",
    "Note: this parameter _only_ works when it is called in a Jupyter Notebook because it expects a running asyncio loop (which Jupyter spins up). If the method is called from a command-line script, the following error will be thrown:\n",
    "\n",
    "```\n",
    "RuntimeError: no event loop running - do not use start_async_refresh=True outside a Jupyter Notebook\n",
    "```"
   ]
  },
  {
   "attachments": {},
   "cell_type": "markdown",
   "metadata": {},
   "source": [
    "## From Command-Line Applications\n",
    "\n",
    "When the client is used to implement a service such as a price-streaming, order-placing, and/or portfolio-monitoring app, the application logic should include a call to refresh the tokens.\n",
    "\n",
    "In these cases the service typically implements a `main()` function that is run asynchronously (because it handles all kinds of async tasks such as receiving websocket messages). This function should include a call to ensure that asyncio spins up the refresh loop:"
   ]
  },
  {
   "cell_type": "code",
   "execution_count": null,
   "metadata": {},
   "outputs": [],
   "source": [
    "import asyncio\n",
    "\n",
    "client = SaxoOpenAPIClient()\n",
    "client.login()\n",
    "\n",
    "\n",
    "async def main() -> None:\n",
    "    # do all kinds of application logic here\n",
    "    # make sure nothing in here is blocking otherwise the refresh call won't be reached\n",
    "\n",
    "    # ensure that asyncio schedules the refresh loop\n",
    "    asyncio.ensure_future(client.async_refresh())\n",
    "\n",
    "\n",
    "# run the app\n",
    "asyncio.run(main())"
   ]
  },
  {
   "attachments": {},
   "cell_type": "markdown",
   "metadata": {},
   "source": [
    "## Confirming Refreshing is Correctly Scheduled\n",
    "\n",
    "If the refresh loop is correctly set up and the client has logging enabled (see next sample), the following DEBUG messages will come up in the logs confirming that the refresh flow is scheduled. The client waits until 30 seconds before the access token expires to refresh the session.\n",
    "\n",
    "```\n",
    "2023-03-23 15:35:32.631Z   DEBUG    client             244 async_refresh             async refresh will kick off refresh flow in 1170 seconds at: 2023-03-23 15:55:02+00:00\n",
    "\n",
    "```"
   ]
  }
 ],
 "metadata": {
  "kernelspec": {
   "display_name": ".venv",
   "language": "python",
   "name": "python3"
  },
  "language_info": {
   "codemirror_mode": {
    "name": "ipython",
    "version": 3
   },
   "file_extension": ".py",
   "mimetype": "text/x-python",
   "name": "python",
   "nbconvert_exporter": "python",
   "pygments_lexer": "ipython3",
   "version": "3.11.3"
  },
  "orig_nbformat": 4,
  "vscode": {
   "interpreter": {
    "hash": "3f753197f020b6236bb06be37c192ff4bc0da2ccc1bf66f005a7556bcabdf016"
   }
  }
 },
 "nbformat": 4,
 "nbformat_minor": 2
}
