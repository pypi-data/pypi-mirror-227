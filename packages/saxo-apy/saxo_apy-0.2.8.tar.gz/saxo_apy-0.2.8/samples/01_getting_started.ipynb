{
 "cells": [
  {
   "attachments": {},
   "cell_type": "markdown",
   "metadata": {},
   "source": [
    "## Getting Started: Configuration & First Login\n",
    "\n",
    "To get started with this client:\n",
    "\n",
    "1. **Install the client** in your Python environment: `pip install saxo-apy`\n",
    "\n",
    "2. **Create a free developer account** on Saxo Bank's Developer Portal: https://www.developer.saxo/accounts/sim/signup (credentials will be sent to the provided email address)\n",
    "\n",
    "3. **Register your application** in the Simulation environment (also known as 'demo' environment): https://www.developer.saxo/openapi/appmanagement\n",
    "\n",
    "    a. Note: make sure to select `Code` as grant type and add at least 1 localhost redirect such as `http://localhost:12321/redirect`\n",
    "\n",
    "4. **Download the application config** by clicking `Copy App Object` in the top-right of the application overview page\n",
    "\n",
    "5. **Save this JSON file** in an accessible location - with these sample notebooks a `app_config.json` file is located in the same directory\n",
    "\n",
    "6. **Initialize** the client:"
   ]
  },
  {
   "cell_type": "code",
   "execution_count": 1,
   "metadata": {},
   "outputs": [],
   "source": [
    "from saxo_apy import SaxoOpenAPIClient\n",
    "\n",
    "# a file called 'app_config.json' is expected to be present in the current directory\n",
    "client = SaxoOpenAPIClient()"
   ]
  },
  {
   "attachments": {},
   "cell_type": "markdown",
   "metadata": {},
   "source": [
    "The client is now *initialized* but not yet connected to Saxo Bank OpenAPI.\n",
    "\n",
    "In order to connect the app, use the `.login()` function.\n",
    "\n",
    "By default, this function will do three things:\n",
    "\n",
    "1. Create a redirect server listening on the (first) `localhost` redirect url specified in the app config object\n",
    "\n",
    "2. Launch your default web browser to show the login dialog\n",
    "\n",
    "3. Once authentication is completed by the user, the client receives a callback and initializes the OpenAPI session by retrieving access and refresh tokens"
   ]
  },
  {
   "cell_type": "code",
   "execution_count": 2,
   "metadata": {},
   "outputs": [
    {
     "name": "stdout",
     "output_type": "stream",
     "text": [
      "🌐 opening login page in browser - waiting for user to authenticate... 🔑\n",
      "📞 received callback from Saxo SSO\n",
      "✅ authorization succeeded - connected to SIM environment with WRITE / TRADE permissions (session ID: aff96bc0ed7e482fb57e0c9d6428e605)\n"
     ]
    }
   ],
   "source": [
    "client.login(start_async_refresh=True)"
   ]
  },
  {
   "attachments": {},
   "cell_type": "markdown",
   "metadata": {},
   "source": [
    "**You are now connected to Saxo Bank OpenAPI and can start using the client!**"
   ]
  },
  {
   "cell_type": "code",
   "execution_count": 3,
   "metadata": {},
   "outputs": [
    {
     "data": {
      "text/plain": [
       "True"
      ]
     },
     "execution_count": 3,
     "metadata": {},
     "output_type": "execute_result"
    }
   ],
   "source": [
    "# am I currently logged in/connected to OpenAPI?\n",
    "client.logged_in"
   ]
  },
  {
   "cell_type": "code",
   "execution_count": 4,
   "metadata": {},
   "outputs": [
    {
     "data": {
      "text/plain": [
       "'2023-06-18T08:05:10+00:00'"
      ]
     },
     "execution_count": 4,
     "metadata": {},
     "output_type": "execute_result"
    }
   ],
   "source": [
    "# when does the current access token expire?\n",
    "client.access_token_expiry.isoformat()"
   ]
  },
  {
   "cell_type": "code",
   "execution_count": 5,
   "metadata": {},
   "outputs": [
    {
     "data": {
      "text/plain": [
       "'vJnkGyXeBw'"
      ]
     },
     "execution_count": 5,
     "metadata": {},
     "output_type": "execute_result"
    }
   ],
   "source": [
    "# show the last 10 characters of the current access token\n",
    "client._token_data.access_token[-10:]"
   ]
  },
  {
   "attachments": {},
   "cell_type": "markdown",
   "metadata": {},
   "source": [
    "If the client is configured to refresh the tokens automatically, it will periodically call the SSO service for new tokens (30 seconds before expiry). It is also possible to explicitly refresh the session:"
   ]
  },
  {
   "cell_type": "code",
   "execution_count": 6,
   "metadata": {},
   "outputs": [],
   "source": [
    "client.refresh()"
   ]
  },
  {
   "cell_type": "code",
   "execution_count": 7,
   "metadata": {},
   "outputs": [
    {
     "data": {
      "text/plain": [
       "'2023-06-18T08:05:15+00:00'"
      ]
     },
     "execution_count": 7,
     "metadata": {},
     "output_type": "execute_result"
    }
   ],
   "source": [
    "# when does the new access token expire?\n",
    "client.access_token_expiry.isoformat()"
   ]
  },
  {
   "cell_type": "code",
   "execution_count": 8,
   "metadata": {},
   "outputs": [
    {
     "data": {
      "text/plain": [
       "'GSZ2jy9uRg'"
      ]
     },
     "execution_count": 8,
     "metadata": {},
     "output_type": "execute_result"
    }
   ],
   "source": [
    "# show the last 10 characters of the new access token (note this is now a different access token because it has been refreshed)\n",
    "client._token_data.access_token[-10:]"
   ]
  },
  {
   "cell_type": "code",
   "execution_count": 9,
   "metadata": {},
   "outputs": [
    {
     "data": {
      "text/plain": [
       "['async_refresh']"
      ]
     },
     "execution_count": 9,
     "metadata": {},
     "output_type": "execute_result"
    }
   ],
   "source": [
    "# if start_async_refresh was set when logging in, the asyncio tasks list will confirm this\n",
    "import asyncio\n",
    "\n",
    "[task.get_name() for task in asyncio.all_tasks() if task.get_name() == \"async_refresh\"]"
   ]
  }
 ],
 "metadata": {
  "kernelspec": {
   "display_name": ".venv",
   "language": "python",
   "name": "python3"
  },
  "language_info": {
   "codemirror_mode": {
    "name": "ipython",
    "version": 3
   },
   "file_extension": ".py",
   "mimetype": "text/x-python",
   "name": "python",
   "nbconvert_exporter": "python",
   "pygments_lexer": "ipython3",
   "version": "3.11.3"
  },
  "orig_nbformat": 4,
  "vscode": {
   "interpreter": {
    "hash": "3f753197f020b6236bb06be37c192ff4bc0da2ccc1bf66f005a7556bcabdf016"
   }
  }
 },
 "nbformat": 4,
 "nbformat_minor": 2
}
