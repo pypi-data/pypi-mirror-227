{
 "cells": [
  {
   "attachments": {},
   "cell_type": "markdown",
   "metadata": {},
   "source": [
    "## Pricing and Order Placement\n",
    "\n",
    "This sample shows how to retrieve price data for FX instruments and place a number of different types of orders.\n",
    "\n",
    "> Note: pricing data might not be available for your client for non-FX instruments - this sample uses FxSpot which _should_ be available on any vanilla developer account.\n",
    "\n",
    "Take care running this notebook with a LIVE client, as it _will_ place orders on your account!"
   ]
  },
  {
   "cell_type": "code",
   "execution_count": 1,
   "metadata": {},
   "outputs": [
    {
     "name": "stdout",
     "output_type": "stream",
     "text": [
      "🌐 opening login page in browser - waiting for user to authenticate... 🔑\n",
      "📞 received callback from Saxo SSO\n",
      "✅ authorization succeeded - connected to SIM environment with WRITE / TRADE permissions (session ID 1925c0646e024b2580970f98b49ad1ce)\n"
     ]
    }
   ],
   "source": [
    "from saxo_apy import SaxoOpenAPIClient\n",
    "\n",
    "client = SaxoOpenAPIClient()\n",
    "client.login()"
   ]
  },
  {
   "cell_type": "code",
   "execution_count": 2,
   "metadata": {},
   "outputs": [
    {
     "data": {
      "text/plain": [
       "[('EURUSD', 21, 'FxSpot'),\n",
       " ('EURCHF', 14, 'FxSpot'),\n",
       " ('EURJPY', 18, 'FxSpot'),\n",
       " ('EURGBP', 17, 'FxSpot'),\n",
       " ('EURCAD', 13, 'FxSpot')]"
      ]
     },
     "execution_count": 2,
     "metadata": {},
     "output_type": "execute_result"
    }
   ],
   "source": [
    "# find Euro FX crosses\n",
    "search = {\n",
    "    \"Keywords\": \"EUR\",\n",
    "    \"AssetTypes\": \"FxSpot\",\n",
    "}\n",
    "\n",
    "result = client.get(\"/ref/v1/instruments\", params=search)[\"Data\"]\n",
    "\n",
    "# show first 5 results\n",
    "[(res[\"Symbol\"], res[\"Identifier\"], res[\"AssetType\"]) for res in result][:5]"
   ]
  },
  {
   "cell_type": "code",
   "execution_count": 3,
   "metadata": {},
   "outputs": [
    {
     "name": "stdout",
     "output_type": "stream",
     "text": [
      "eurusd_details['TradingStatus']='Tradable'\n",
      "eurusd_details['TradableOn']=['16371609', '16371609_DKK', '16371609_USD']\n",
      "eurusd_details['SupportedOrderTypes']=['Stop', 'TrailingStop', 'StopLimit', 'Limit', 'Market']\n",
      "eurusd_details['TickSizeLimitOrder']=1e-05\n",
      "eurusd_details['TickSizeStopOrder']=1e-05\n"
     ]
    }
   ],
   "source": [
    "# select EURUSD FX cross and retrieve detailed instrument information\n",
    "eurusd_details = client.get(f\"/ref/v1/instruments/details/{result[0]['Identifier']}/{result[0]['AssetType']}\")\n",
    "\n",
    "# show trade status, available accounts, and available order types\n",
    "print(f\"{eurusd_details['TradingStatus']=}\")\n",
    "print(f\"{eurusd_details['TradableOn']=}\")\n",
    "print(f\"{eurusd_details['SupportedOrderTypes']=}\")\n",
    "print(f\"{eurusd_details['TickSizeLimitOrder']=}\")\n",
    "print(f\"{eurusd_details['TickSizeStopOrder']=}\")"
   ]
  },
  {
   "cell_type": "code",
   "execution_count": 4,
   "metadata": {},
   "outputs": [
    {
     "name": "stdout",
     "output_type": "stream",
     "text": [
      "Price for EURUSD: 1.07371 - Market state is: Open - Price delayed by 0 minutes.\n"
     ]
    }
   ],
   "source": [
    "# retrieve price data\n",
    "price_params = {\n",
    "    \"Uic\": eurusd_details[\"Uic\"],\n",
    "    \"AssetType\": eurusd_details[\"AssetType\"],\n",
    "    \"FieldGroups\": [\"PriceInfo\"],\n",
    "}\n",
    "\n",
    "eurusd_price = client.get(\"/trade/v1/infoprices\", params=price_params)[\"Quote\"]\n",
    "\n",
    "print(\n",
    "    f\"Price for {eurusd_details['Symbol']}: {eurusd_price['Mid']} - Market state is: {eurusd_price['MarketState']} - Price delayed by {eurusd_price['DelayedByMinutes']} minutes.\"\n",
    ")"
   ]
  },
  {
   "attachments": {},
   "cell_type": "markdown",
   "metadata": {},
   "source": [
    "## Limit Order"
   ]
  },
  {
   "cell_type": "code",
   "execution_count": 5,
   "metadata": {},
   "outputs": [
    {
     "name": "stdout",
     "output_type": "stream",
     "text": [
      "Order price for this order: 1.02002\n",
      "Order placed with id: 5010735121, external reference: vDyr_dCPC9sptKGX0wMqoA\n"
     ]
    }
   ],
   "source": [
    "# place a limit order to buy 1000 EURUSD 5% under the current MID price\n",
    "# the selected account is the default account, which is allowed according to the /details response (see above)\n",
    "# the price level for this order is quantized in order to round it to the closest (allowed) TickSize increment for this order type (see above)\n",
    "\n",
    "from decimal import Decimal\n",
    "from secrets import token_urlsafe\n",
    "\n",
    "order_price = Decimal(eurusd_price[\"Mid\"] * 0.95).quantize(Decimal(str(eurusd_details[\"TickSizeLimitOrder\"])))\n",
    "print(f\"Order price for this order: {order_price}\")\n",
    "\n",
    "client_data = client.get(\"/port/v1/clients/me\")\n",
    "\n",
    "limit_order = {\n",
    "    \"AccountKey\": client_data[\"DefaultAccountKey\"],\n",
    "    \"AssetType\": eurusd_details[\"AssetType\"],\n",
    "    \"Uic\": eurusd_details[\"Uic\"],\n",
    "    \"BuySell\": \"Buy\",\n",
    "    \"Amount\": 1000,\n",
    "    \"OrderType\": \"Limit\",\n",
    "    \"OrderPrice\": str(order_price),  # for serialization\n",
    "    \"OrderDuration\": {\"DurationType\": \"GoodTillCancel\"},\n",
    "    \"ExternalReference\": token_urlsafe(16),  # a random identifier for this order\n",
    "    \"ManualOrder\": True,\n",
    "}\n",
    "\n",
    "placed_order = client.post(\"/trade/v2/orders\", data=limit_order)\n",
    "\n",
    "print(f\"Order placed with id: {placed_order['OrderId']}, external reference: {placed_order['ExternalReference']}\")"
   ]
  },
  {
   "cell_type": "code",
   "execution_count": 6,
   "metadata": {},
   "outputs": [
    {
     "name": "stdout",
     "output_type": "stream",
     "text": [
      "Order: 5010735121, status: Working\n"
     ]
    }
   ],
   "source": [
    "# retrieve order status from portfolio\n",
    "order = client.get(f\"/port/v1/orders/{client_data['ClientKey']}/{placed_order['OrderId']}\")[\"Data\"][0]\n",
    "\n",
    "print(f\"Order: {order['OrderId']}, status: {order['Status']}\")"
   ]
  },
  {
   "cell_type": "code",
   "execution_count": 7,
   "metadata": {},
   "outputs": [],
   "source": [
    "# cancel order\n",
    "client.delete(f\"/trade/v2/orders/{order['OrderId']}?AccountKey={order['AccountKey']}\")\n",
    "\n",
    "# no data is returned because status of delete request is 204 No Content"
   ]
  },
  {
   "cell_type": "code",
   "execution_count": 8,
   "metadata": {},
   "outputs": [
    {
     "data": {
      "text/plain": [
       "{'__count': 0, 'Data': []}"
      ]
     },
     "execution_count": 8,
     "metadata": {},
     "output_type": "execute_result"
    }
   ],
   "source": [
    "# confirm order is now removed\n",
    "client.get(f\"/port/v1/orders/{client_data['ClientKey']}/{placed_order['OrderId']}\")"
   ]
  },
  {
   "attachments": {},
   "cell_type": "markdown",
   "metadata": {},
   "source": [
    "## Stop Order"
   ]
  },
  {
   "cell_type": "code",
   "execution_count": 9,
   "metadata": {},
   "outputs": [
    {
     "name": "stdout",
     "output_type": "stream",
     "text": [
      "Order price for this order: 1.12740\n",
      "Order placed with id: 5010735122, external reference: O-m6hbs_802sSa9zu6sd4A\n",
      "Order: 5010735122, status: Working\n"
     ]
    },
    {
     "data": {
      "text/plain": [
       "{'__count': 0, 'Data': []}"
      ]
     },
     "execution_count": 9,
     "metadata": {},
     "output_type": "execute_result"
    }
   ],
   "source": [
    "# similar to the limit order above, we now place a stop order to buy 1000 EURUSD 5% over the current MID price\n",
    "\n",
    "from decimal import Decimal\n",
    "from secrets import token_urlsafe\n",
    "\n",
    "order_price = Decimal(eurusd_price[\"Mid\"] * 1.05).quantize(Decimal(str(eurusd_details[\"TickSizeStopOrder\"])))\n",
    "print(f\"Order price for this order: {order_price}\")\n",
    "\n",
    "client_data = client.get(\"/port/v1/clients/me\")\n",
    "\n",
    "limit_order = {\n",
    "    \"AccountKey\": client_data[\"DefaultAccountKey\"],\n",
    "    \"AssetType\": eurusd_details[\"AssetType\"],\n",
    "    \"Uic\": eurusd_details[\"Uic\"],\n",
    "    \"BuySell\": \"Buy\",\n",
    "    \"Amount\": 1000,\n",
    "    \"OrderType\": \"Stop\",  # note: for exchange-traded instruments this field should be set to \"StopIfTraded\"\n",
    "    \"OrderPrice\": str(order_price),  # for serialization\n",
    "    \"OrderDuration\": {\"DurationType\": \"GoodTillCancel\"},\n",
    "    \"ExternalReference\": token_urlsafe(16),  # a random identifier for this order\n",
    "    \"ManualOrder\": True,\n",
    "}\n",
    "\n",
    "placed_order = client.post(\"/trade/v2/orders\", data=limit_order)\n",
    "\n",
    "print(f\"Order placed with id: {placed_order['OrderId']}, external reference: {placed_order['ExternalReference']}\")\n",
    "\n",
    "# retrieve order status from portfolio\n",
    "order = client.get(f\"/port/v1/orders/{client_data['ClientKey']}/{placed_order['OrderId']}\")[\"Data\"][0]\n",
    "\n",
    "print(f\"Order: {order['OrderId']}, status: {order['Status']}\")\n",
    "\n",
    "# cancel order\n",
    "client.delete(f\"/trade/v2/orders/{order['OrderId']}?AccountKey={order['AccountKey']}\")\n",
    "\n",
    "# no data is returned because status of delete request is 204 No Content\n",
    "\n",
    "# confirm order is now removed\n",
    "client.get(f\"/port/v1/orders/{client_data['ClientKey']}/{placed_order['OrderId']}\")"
   ]
  }
 ],
 "metadata": {
  "kernelspec": {
   "display_name": ".venv",
   "language": "python",
   "name": "python3"
  },
  "language_info": {
   "codemirror_mode": {
    "name": "ipython",
    "version": 3
   },
   "file_extension": ".py",
   "mimetype": "text/x-python",
   "name": "python",
   "nbconvert_exporter": "python",
   "pygments_lexer": "ipython3",
   "version": "3.11.1 (main, Dec 23 2022, 09:28:24) [Clang 14.0.0 (clang-1400.0.29.202)]"
  },
  "orig_nbformat": 4,
  "vscode": {
   "interpreter": {
    "hash": "3f753197f020b6236bb06be37c192ff4bc0da2ccc1bf66f005a7556bcabdf016"
   }
  }
 },
 "nbformat": 4,
 "nbformat_minor": 2
}
