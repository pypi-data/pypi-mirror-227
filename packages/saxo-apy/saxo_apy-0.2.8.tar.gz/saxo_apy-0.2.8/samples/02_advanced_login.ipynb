{
 "cells": [
  {
   "cell_type": "markdown",
   "metadata": {},
   "source": [
    "## Advanced Login\n",
    "\n",
    "By default, the client will create a redirect server and launch the user's default browser to show the login page. Neither of these are however required. This is useful for deployed applications that need to be initialized from the command line (also known as \"headless authentication\").\n",
    "\n",
    "Start by initializing the client as usual:"
   ]
  },
  {
   "cell_type": "code",
   "execution_count": 1,
   "metadata": {},
   "outputs": [],
   "source": [
    "from saxo_apy import SaxoOpenAPIClient\n",
    "\n",
    "client = SaxoOpenAPIClient()"
   ]
  },
  {
   "cell_type": "markdown",
   "metadata": {},
   "source": [
    "Next, use the `.login()` method with the below arguments to disable the browser and redirect server.\n",
    "\n",
    "You will manually have to open the login page at the provided link, and copy the URL location you land on into the terminal after you enter your credentials.\n",
    "\n",
    "Note: because no server is listening for the redirect, the browser will show a \"This site can't be reached\" or \"Unable to connect\" error. This is however not a problem, as the required data (the authorization code) is available in the URL's query parameters. Copy the entire URL into your command line when prompted to connect the client."
   ]
  },
  {
   "cell_type": "code",
   "execution_count": null,
   "metadata": {},
   "outputs": [],
   "source": [
    "client.login(launch_browser=False, catch_redirect=False, start_async_refresh=True)"
   ]
  },
  {
   "cell_type": "markdown",
   "metadata": {},
   "source": [
    "The command line will look something like this:\n",
    "\n",
    "```\n",
    "🌐 navigate to the following web page to log in: https://sim.logonvalidation.net/authorize?.....\n",
    "📎 paste redirect location (url): < REDIRECT LOCATION GOES HERE >\n",
    "✅ authorization succeeded - connected to 🛠 SIM environment with 🔧 write / 📈 trade permissions (session ID ea1df9dfd8464915947ba529bd2f02ac)\n",
    "```\n",
    "\n",
    "The client is now connected in the same way as using the browser/redirect server:"
   ]
  },
  {
   "cell_type": "code",
   "execution_count": 3,
   "metadata": {},
   "outputs": [
    {
     "data": {
      "text/plain": [
       "True"
      ]
     },
     "execution_count": 3,
     "metadata": {},
     "output_type": "execute_result"
    }
   ],
   "source": [
    "client.logged_in"
   ]
  },
  {
   "cell_type": "code",
   "execution_count": 4,
   "metadata": {},
   "outputs": [
    {
     "data": {
      "text/plain": [
       "['async_refresh']"
      ]
     },
     "execution_count": 4,
     "metadata": {},
     "output_type": "execute_result"
    }
   ],
   "source": [
    "# if start_async_refresh was set when logging in, the asyncio tasks list will confirm this (only for Jupyter Notebooks)\n",
    "import asyncio\n",
    "\n",
    "[task.get_name() for task in asyncio.all_tasks() if task.get_name() == \"async_refresh\"]"
   ]
  },
  {
   "cell_type": "markdown",
   "metadata": {},
   "source": [
    "## Authenticating a Deployed Application\n",
    "\n",
    "Let's assume you have a cloud server running at `my-dev-box.my-domain.net`. We want to deploy a OpenAPI client on this server and authenticate it with Saxo SSO.\n",
    "\n",
    "We can use the above procedure to authenticate the client from the command line (through SSH for example).\n",
    "\n",
    "However, we can also use the client to seamlessly authenticate while still using a browser and callback server. We first need to ensure we add a new redirect URL to the application on the Developer Portal:\n",
    "\n",
    "`http://my-dev-box.my-domain.net:12321/redirect`\n",
    "\n",
    "Saxo SSO will redirect the user to this location after login credentials are validated. Make sure your cloud instance firewall allows for inbound connections on the chosen port (in this case `12321`), otherwise your server will never be able to catch the callback.\n",
    "\n",
    "Next, we initialize the client as usual:"
   ]
  },
  {
   "cell_type": "code",
   "execution_count": 1,
   "metadata": {},
   "outputs": [],
   "source": [
    "from saxo_apy import SaxoOpenAPIClient\n",
    "\n",
    "client = SaxoOpenAPIClient()"
   ]
  },
  {
   "cell_type": "markdown",
   "metadata": {},
   "source": [
    "The client provides a convenience function to show the available redirect URLs:"
   ]
  },
  {
   "cell_type": "code",
   "execution_count": null,
   "metadata": {},
   "outputs": [],
   "source": [
    "[url.host for url in client.available_redirect_urls]\n",
    "# ['localhost', 'my-dev-box.my-domain.net']"
   ]
  },
  {
   "cell_type": "markdown",
   "metadata": {},
   "source": [
    "Next, we select the **second** URL for our login flow:"
   ]
  },
  {
   "cell_type": "code",
   "execution_count": 3,
   "metadata": {},
   "outputs": [
    {
     "name": "stdout",
     "output_type": "stream",
     "text": [
      "🌐 opening login page in browser - waiting for user to authenticate... 🔑\n",
      "📞 received callback from Saxo SSO\n",
      "✅ authorization succeeded - connected to SIM environment with WRITE / TRADE permissions (session ID 0499351bebc345df80a0070aab04d151)\n"
     ]
    }
   ],
   "source": [
    "client.login(redirect_url=client.available_redirect_urls[1])"
   ]
  },
  {
   "cell_type": "markdown",
   "metadata": {},
   "source": [
    "Enter your credentials and confirm. Saxo SSO now forwards you to the cloud instance, which should be able to catch the callback and authorize your client without you needing to copy URLs back and forth!"
   ]
  },
  {
   "attachments": {},
   "cell_type": "markdown",
   "metadata": {},
   "source": [
    "## Authenticating a Deployed Application Behind a Reverse Proxy with HTTPS Enabled\n",
    "\n",
    "In the above example the redirect to the server listening on port 12321 uses the insecure HTTP protocol. The user's browser can therefore not verify that the machine it's connecting to _is_ actually `my-dev-box.my-domain.net`. This poses a security risk because the `auth_code` param that is included in the redirect could potentially fall into the wrong hands.\n",
    "\n",
    "To ensure security, we need to redirect to: `https://my-dev-box.my-domain.net` instead (notice HTTP**S** instead of HTTP).\n",
    "\n",
    "This requires the following steps:\n",
    "- The devbox needs some reverse proxy to offload SSL. In this example I am using Nginx with Let's Encrypt/Certbot on an Ubuntu machine (for an excellent tutorial on how to set this up, see DigitalOcean's setup [guide 1](https://www.digitalocean.com/community/tutorials/how-to-install-nginx-on-ubuntu-20-04) and [guide 2](https://www.digitalocean.com/community/tutorials/how-to-secure-nginx-with-let-s-encrypt-on-ubuntu-20-04)).\n",
    "- The app config needs to be updated with a new redirect url: `https://my-dev-box.my-domain.net:443/redirect` (notice HTTP**S** and port=443).\n",
    "- We need to configure the `saxo-apy` redirect server to listen on a different port, because port 443 will be used by Nginx to receive incoming traffic (which is then proxy'd to the redirect server).\n",
    "\n",
    "The Nginx configuration for your domain should be extended with some `proxy_pass` redirect such as:\n",
    "\n",
    "```\n",
    "    location /redirect {\n",
    "        proxy_pass http://127.0.0.1:8080/redirect;\n",
    "    }\n",
    "```\n",
    "\n",
    "This will receive incoming (SSL-secured) traffic on the route to `/redirect` and forward the request to localhost port 8080. This will be the location where our redirect server is catching the request to handle the next steps of the authorization process.\n",
    "\n",
    "Now, we can connect our application to Saxo securely over HTTPS. Make sure to update your local copy of the application configuration (which should have the new redirect URL specified above)."
   ]
  },
  {
   "cell_type": "code",
   "execution_count": 1,
   "metadata": {},
   "outputs": [],
   "source": [
    "from saxo_apy import SaxoOpenAPIClient\n",
    "\n",
    "client = SaxoOpenAPIClient()"
   ]
  },
  {
   "cell_type": "code",
   "execution_count": 2,
   "metadata": {},
   "outputs": [
    {
     "name": "stdout",
     "output_type": "stream",
     "text": [
      "🌐 opening login page in browser - waiting for user to authenticate... 🔑\n",
      "📞 received callback from Saxo SSO\n",
      "✅ authorization succeeded - connected to SIM environment with WRITE / TRADE permissions (session ID 75950811b4d7441f9977cbe01e16ec36)\n"
     ]
    }
   ],
   "source": [
    "client.login(\n",
    "    redirect_url=client.available_redirect_urls[2],  # in this case the 3rd url in my config is the HTTPS redirect\n",
    "    redirect_port=8080,  # this is the same port as in the above Nginx config\n",
    ")"
   ]
  },
  {
   "attachments": {},
   "cell_type": "markdown",
   "metadata": {},
   "source": [
    "Notice the SSL symbol in your browser when connecting to your devbox (typically a closed lock icon). You are now connected to Saxo OpenAPI with a secured redirect flow!"
   ]
  }
 ],
 "metadata": {
  "kernelspec": {
   "display_name": ".venv",
   "language": "python",
   "name": "python3"
  },
  "language_info": {
   "codemirror_mode": {
    "name": "ipython",
    "version": 3
   },
   "file_extension": ".py",
   "mimetype": "text/x-python",
   "name": "python",
   "nbconvert_exporter": "python",
   "pygments_lexer": "ipython3",
   "version": "3.11.1 (main, Dec 23 2022, 09:28:24) [Clang 14.0.0 (clang-1400.0.29.202)]"
  },
  "vscode": {
   "interpreter": {
    "hash": "3f753197f020b6236bb06be37c192ff4bc0da2ccc1bf66f005a7556bcabdf016"
   }
  }
 },
 "nbformat": 4,
 "nbformat_minor": 2
}
