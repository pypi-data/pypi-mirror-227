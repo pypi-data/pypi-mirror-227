{
 "cells": [
  {
   "cell_type": "markdown",
   "metadata": {},
   "source": [
    "## Searching Instruments"
   ]
  },
  {
   "cell_type": "code",
   "execution_count": 1,
   "metadata": {},
   "outputs": [
    {
     "name": "stdout",
     "output_type": "stream",
     "text": [
      "🌐 opening login page in browser - waiting for user to authenticate... 🔑\n",
      "📞 received callback from Saxo SSO\n",
      "✅ authorization succeeded - connected to SIM environment with WRITE / TRADE permissions (session ID: 73e1f2013caf4d5c87442dc9241751a0)\n"
     ]
    }
   ],
   "source": [
    "from saxo_apy import SaxoOpenAPIClient\n",
    "\n",
    "client = SaxoOpenAPIClient()\n",
    "client.login()"
   ]
  },
  {
   "cell_type": "code",
   "execution_count": 2,
   "metadata": {},
   "outputs": [
    {
     "name": "stdout",
     "output_type": "stream",
     "text": [
      "Found 1 instrument(s):\n"
     ]
    },
    {
     "data": {
      "text/plain": [
       "[('AAPL:xnas', 'Apple Inc.', 'NASDAQ', 211, 'Stock')]"
      ]
     },
     "execution_count": 2,
     "metadata": {},
     "output_type": "execute_result"
    }
   ],
   "source": [
    "# simple, direct search for a single instrument\n",
    "search = {\n",
    "    \"Keywords\": \"Apple\",\n",
    "    \"AssetTypes\": \"Stock\",\n",
    "    \"ExchangeId\": \"NASDAQ\",\n",
    "}\n",
    "\n",
    "\n",
    "results = [\n",
    "    (\n",
    "        result[\"Symbol\"],\n",
    "        result[\"Description\"],\n",
    "        result[\"ExchangeId\"],\n",
    "        result[\"Identifier\"],\n",
    "        result[\"AssetType\"],\n",
    "    )\n",
    "    for result in client.get(\"/ref/v1/instruments\", params=search)[\"Data\"]\n",
    "]\n",
    "\n",
    "print(f\"Found {len(results)} instrument(s):\")\n",
    "results"
   ]
  },
  {
   "cell_type": "code",
   "execution_count": 3,
   "metadata": {},
   "outputs": [
    {
     "name": "stdout",
     "output_type": "stream",
     "text": [
      "Found 246 exchanges\n"
     ]
    },
    {
     "data": {
      "text/plain": [
       "[('New York Stock Exchange (ARCA)', 'NYSE_ARCA'),\n",
       " ('Pacific Stock Exchange ( NYSE Arca )', 'PSE'),\n",
       " ('Commodity Exchange (COMEX)', 'COMEX'),\n",
       " ('Bonds Consolidated Feed', 'BONDS_CONS'),\n",
       " ('NASDAQ TotalView NYSE and NYSE MKT listings', 'TVIEWNYSE')]"
      ]
     },
     "execution_count": 3,
     "metadata": {},
     "output_type": "execute_result"
    }
   ],
   "source": [
    "# what exchange IDs are available?\n",
    "exchanges = client.get(\"/ref/v1/exchanges\")[\"Data\"]\n",
    "\n",
    "print(f\"Found {len(exchanges)} exchanges\")\n",
    "\n",
    "# show first 5 exchanges located in US\n",
    "[(exchange[\"Name\"], exchange[\"ExchangeId\"]) for exchange in exchanges if exchange[\"CountryCode\"] == \"US\"][:5]"
   ]
  },
  {
   "cell_type": "code",
   "execution_count": 4,
   "metadata": {},
   "outputs": [
    {
     "name": "stdout",
     "output_type": "stream",
     "text": [
      "Found 118 instruments\n"
     ]
    },
    {
     "data": {
      "text/plain": [
       "[('ASML Holding NV', 'ASML:xams', 1636),\n",
       " ('ING Groep ', 'ING:xams', 3066),\n",
       " ('Shell PLC', 'SHELL:xams', 27113371),\n",
       " ('Just Eat Takeaway', 'TKWY:xams', 6900023),\n",
       " ('Pharming Group', 'PHARM:xams', 23113),\n",
       " ('Aegon', 'AGN:xams', 111717),\n",
       " ('BE Semiconductor Industries', 'BESI:xams', 43318),\n",
       " ('ASM International', 'ASMI:xams', 13269),\n",
       " ('ABN AMRO Bank', 'ABN:xams', 2906958),\n",
       " ('NN Group', 'NN:xams', 984685)]"
      ]
     },
     "execution_count": 4,
     "metadata": {},
     "output_type": "execute_result"
    }
   ],
   "source": [
    "# what instruments are available on Euronext Amsterdam (ExchangeId \"AMS\")?\n",
    "search = {\n",
    "    \"ExchangeId\": \"AMS\",\n",
    "    \"AssetTypes\": \"Stock\",\n",
    "    \"$top\": 1000,  # default limit is 50, max is 1000\n",
    "}\n",
    "\n",
    "results = client.get(\"/ref/v1/instruments\", params=search)[\"Data\"]\n",
    "\n",
    "print(f\"Found {len(results)} instruments\")\n",
    "\n",
    "# show first 10 results:\n",
    "[(result[\"Description\"], result[\"Symbol\"], result[\"Identifier\"]) for result in results][:10]"
   ]
  },
  {
   "cell_type": "code",
   "execution_count": 5,
   "metadata": {},
   "outputs": [
    {
     "data": {
      "text/plain": [
       "['S&P ASX 300 Index',\n",
       " 'CHINEXT Price Index',\n",
       " 'Morningstar US Large Cap Index',\n",
       " 'Morningstar US Small Cap Index',\n",
       " 'Morningstar Australia Index']"
      ]
     },
     "execution_count": 5,
     "metadata": {},
     "output_type": "execute_result"
    }
   ],
   "source": [
    "# search for non-tradable instruments such as indices\n",
    "\n",
    "search = {\n",
    "    \"Keywords\": \"Index\",\n",
    "    \"AssetTypes\": \"StockIndex\",\n",
    "    \"IncludeNonTradable\": True,\n",
    "}\n",
    "\n",
    "results = client.get(\"/ref/v1/instruments\", params=search)[\"Data\"]\n",
    "\n",
    "# show first 5 results\n",
    "[res[\"Description\"] for res in results][:5]"
   ]
  }
 ],
 "metadata": {
  "kernelspec": {
   "display_name": ".venv",
   "language": "python",
   "name": "python3"
  },
  "language_info": {
   "codemirror_mode": {
    "name": "ipython",
    "version": 3
   },
   "file_extension": ".py",
   "mimetype": "text/x-python",
   "name": "python",
   "nbconvert_exporter": "python",
   "pygments_lexer": "ipython3",
   "version": "3.11.3"
  },
  "orig_nbformat": 4,
  "vscode": {
   "interpreter": {
    "hash": "3f753197f020b6236bb06be37c192ff4bc0da2ccc1bf66f005a7556bcabdf016"
   }
  }
 },
 "nbformat": 4,
 "nbformat_minor": 2
}
